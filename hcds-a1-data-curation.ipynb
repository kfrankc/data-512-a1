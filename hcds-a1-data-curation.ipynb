{
 "cells": [
  {
   "cell_type": "markdown",
   "metadata": {},
   "source": [
    "# DATA 512 A1 Assignment\n",
    "\n",
    "Frank Chen\n",
    "\n",
    "This code is made available for re-use under a [CC0 license](https://creativecommons.org/share-your-work/public-domain/cc0/).\n",
    "\n",
    "## Step 1: Data Acquisition\n",
    "\n",
    "I first load the relevant libraries used in this assignment."
   ]
  },
  {
   "cell_type": "code",
   "execution_count": 1,
   "metadata": {
    "collapsed": true
   },
   "outputs": [],
   "source": [
    "import json\n",
    "import requests\n",
    "import pandas as pd\n",
    "import copy as cp\n",
    "import matplotlib.pyplot as plt\n",
    "import numpy as np\n",
    "\n",
    "from pandas.io.json import json_normalize\n",
    "from functools import reduce\n",
    "\n",
    "%matplotlib inline \n",
    "# to use it in jupyter notebooks"
   ]
  },
  {
   "cell_type": "markdown",
   "metadata": {},
   "source": [
    "Next, I set up the endpoints, and parameters for the API calls."
   ]
  },
  {
   "cell_type": "code",
   "execution_count": 2,
   "metadata": {
    "collapsed": true
   },
   "outputs": [],
   "source": [
    "endpoint_legacy = 'https://wikimedia.org/api/rest_v1/metrics/legacy/pagecounts/aggregate/{project}/{access-site}/{granularity}/{start}/{end}'\n",
    "\n",
    "endpoint_pageviews = 'https://wikimedia.org/api/rest_v1/metrics/pageviews/aggregate/{project}/{access}/{agent}/{granularity}/{start}/{end}'"
   ]
  },
  {
   "cell_type": "code",
   "execution_count": 3,
   "metadata": {
    "collapsed": true
   },
   "outputs": [],
   "source": [
    "# Desktop Params Legacy\n",
    "desktop_params_legacy = {\"project\" : \"en.wikipedia.org\",\n",
    "                 \"access-site\" : \"desktop-site\",\n",
    "                 \"granularity\" : \"monthly\",\n",
    "                 \"start\" : \"2007120100\",\n",
    "                # for end use 1st day of month following final month of data\n",
    "                 \"end\" : \"2016070100\"\n",
    "                    }\n",
    "# Mobile Params Legacy\n",
    "mobile_params_legacy = {\"project\" : \"en.wikipedia.org\",\n",
    "                 \"access-site\" : \"mobile-site\",\n",
    "                 \"granularity\" : \"monthly\",\n",
    "                 \"start\" : \"2007120100\",\n",
    "                # for end use 1st day of month following final month of data\n",
    "                 \"end\" : \"2016070100\"\n",
    "                    }\n",
    "\n",
    "# Desktop Params\n",
    "desktop_params_pageviews = {\"project\" : \"en.wikipedia.org\",\n",
    "                    \"access\" : \"desktop\",\n",
    "                    \"agent\" : \"user\",\n",
    "                    \"granularity\" : \"monthly\",\n",
    "                    \"start\" : \"2015070100\",\n",
    "                    # for end use 1st day of month following final month of data\n",
    "                    \"end\" : '2019081000'\n",
    "                        }\n",
    "# Mobile Web Params\n",
    "mobile_web_params_pageviews = {\"project\" : \"en.wikipedia.org\",\n",
    "                    \"access\" : \"mobile-web\",\n",
    "                    \"agent\" : \"user\",\n",
    "                    \"granularity\" : \"monthly\",\n",
    "                    \"start\" : \"2015070100\",\n",
    "                    # for end use 1st day of month following final month of data\n",
    "                    \"end\" : '2019081000'\n",
    "                        }\n",
    "\n",
    "# Mobile App Params\n",
    "mobile_app_params_pageviews = {\"project\" : \"en.wikipedia.org\",\n",
    "                    \"access\" : \"mobile-app\",\n",
    "                    \"agent\" : \"user\",\n",
    "                    \"granularity\" : \"monthly\",\n",
    "                    \"start\" : \"2015070100\",\n",
    "                    # for end use 1st day of month following final month of data\n",
    "                    \"end\" : '2019081000'\n",
    "                        }\n",
    "\n",
    "# Customize these with your own information\n",
    "headers = {\n",
    "    'User-Agent': 'https://github.com/kfrankc',\n",
    "    'From': 'kfrankc@uw.edu'\n",
    "}"
   ]
  },
  {
   "cell_type": "code",
   "execution_count": 4,
   "metadata": {
    "collapsed": true
   },
   "outputs": [],
   "source": [
    "def api_call(endpoint,parameters):\n",
    "    call = requests.get(endpoint.format(**parameters), headers=headers)\n",
    "    response = call.json()\n",
    "    \n",
    "    return response"
   ]
  },
  {
   "cell_type": "markdown",
   "metadata": {},
   "source": [
    "Next, I save each API call into a JSON file, with a total of 5 files."
   ]
  },
  {
   "cell_type": "code",
   "execution_count": 5,
   "metadata": {
    "collapsed": false
   },
   "outputs": [],
   "source": [
    "pagecounts_desktop_site = api_call(endpoint_legacy, desktop_params_legacy)\n",
    "with open('pagecounts_desktop-site_200712-201607.json', 'w') as outfile:\n",
    "    json.dump(pagecounts_desktop_site, outfile)"
   ]
  },
  {
   "cell_type": "code",
   "execution_count": 6,
   "metadata": {
    "collapsed": false
   },
   "outputs": [],
   "source": [
    "pagecounts_mobile_site = api_call(endpoint_legacy, mobile_params_legacy)\n",
    "with open('pagecounts_mobile-site_200712-201607.json', 'w') as outfile:\n",
    "    json.dump(pagecounts_mobile_site, outfile)"
   ]
  },
  {
   "cell_type": "code",
   "execution_count": 7,
   "metadata": {
    "collapsed": true
   },
   "outputs": [],
   "source": [
    "pageviews_desktop = api_call(endpoint_pageviews, desktop_params_pageviews)\n",
    "with open('pageviews_desktop_201507-201908.json', 'w') as outfile:\n",
    "    json.dump(pageviews_desktop, outfile)"
   ]
  },
  {
   "cell_type": "code",
   "execution_count": 8,
   "metadata": {
    "collapsed": true
   },
   "outputs": [],
   "source": [
    "pageviews_mobile_web = api_call(endpoint_pageviews, mobile_web_params_pageviews)\n",
    "with open('pageviews_mobile-web_201507-201908.json', 'w') as outfile:\n",
    "    json.dump(pageviews_mobile_web, outfile)"
   ]
  },
  {
   "cell_type": "code",
   "execution_count": 9,
   "metadata": {
    "collapsed": true
   },
   "outputs": [],
   "source": [
    "pageviews_mobile_app = api_call(endpoint_pageviews, mobile_app_params_pageviews)\n",
    "with open('pageviews_mobile-app_201507-201908.json', 'w') as outfile:\n",
    "    json.dump(pageviews_mobile_app, outfile)"
   ]
  },
  {
   "cell_type": "markdown",
   "metadata": {},
   "source": [
    "## Step 2: Data Processing\n",
    "\n",
    "In this step, I first load in my JSON files as pandas dataframes. Manipulating/transforming data is easier in dataframes than in pure JSON."
   ]
  },
  {
   "cell_type": "code",
   "execution_count": 10,
   "metadata": {
    "collapsed": false
   },
   "outputs": [],
   "source": [
    "pagecounts_desktop_site_pd = json_normalize(pagecounts_desktop_site['items'])\n",
    "pagecounts_mobile_site_pd = json_normalize(pagecounts_mobile_site['items'])\n",
    "pageviews_desktop_pd = json_normalize(pageviews_desktop['items'])\n",
    "pageviews_mobile_web_pd = json_normalize(pageviews_mobile_web['items'])\n",
    "pageviews_mobile_app_pd = json_normalize(pageviews_mobile_app['items'])"
   ]
  },
  {
   "cell_type": "markdown",
   "metadata": {},
   "source": [
    "Next, I create `pagecounts_all_pd` dataframe to store all pagecounts via merging desktop and mobile pagecounts."
   ]
  },
  {
   "cell_type": "code",
   "execution_count": 11,
   "metadata": {
    "collapsed": false
   },
   "outputs": [],
   "source": [
    "pagecounts_mobile_site_pd = pagecounts_mobile_site_pd.drop(['access-site', 'granularity', 'project'], axis=1)\n",
    "pagecounts_all_pd = pd.merge(pagecounts_desktop_site_pd, pagecounts_mobile_site_pd, on=['timestamp'], how='outer')"
   ]
  },
  {
   "cell_type": "code",
   "execution_count": 12,
   "metadata": {
    "collapsed": false
   },
   "outputs": [],
   "source": [
    "# Generate all pagecounts\n",
    "pagecounts_all_pd['views'] = pagecounts_all_pd['count_x'].add(pagecounts_all_pd['count_y'], fill_value=0)\n",
    "pagecounts_all_pd = pagecounts_all_pd.drop(['count_x','count_y'], axis=1)"
   ]
  },
  {
   "cell_type": "markdown",
   "metadata": {},
   "source": [
    "Next, I create `pageviews_mobile_all_pd` dataframe to store all mobile counts (web + app), then merge that with desktop to get `pageviews_all_pd`"
   ]
  },
  {
   "cell_type": "code",
   "execution_count": 13,
   "metadata": {
    "collapsed": false
   },
   "outputs": [],
   "source": [
    "# Generate all mobile pageviews\n",
    "pageviews_mobile_all_pd = cp.deepcopy(pageviews_mobile_web_pd)\n",
    "pageviews_mobile_all_pd['views'] = pageviews_mobile_web_pd['views'] + pageviews_mobile_app_pd['views']"
   ]
  },
  {
   "cell_type": "code",
   "execution_count": 14,
   "metadata": {
    "collapsed": false
   },
   "outputs": [],
   "source": [
    "# Generate all pageviews\n",
    "pageviews_all_pd = cp.deepcopy(pageviews_mobile_all_pd)\n",
    "pageviews_all_pd['views'] = pageviews_mobile_all_pd['views'] + pageviews_desktop_pd['views']"
   ]
  },
  {
   "cell_type": "markdown",
   "metadata": {},
   "source": [
    "Next, I format the timestamp field into datetime, which makes it easier to extract years and months."
   ]
  },
  {
   "cell_type": "code",
   "execution_count": 15,
   "metadata": {
    "collapsed": false
   },
   "outputs": [],
   "source": [
    "pagecounts_desktop_site_pd['timestamp'] = pd.to_datetime(pagecounts_desktop_site_pd['timestamp'], format='%Y%m%d%H')\n",
    "pagecounts_mobile_site_pd['timestamp'] = pd.to_datetime(pagecounts_mobile_site_pd['timestamp'], format='%Y%m%d%H')\n",
    "pagecounts_all_pd['timestamp'] = pd.to_datetime(pagecounts_all_pd['timestamp'], format='%Y%m%d%H')\n",
    "pageviews_desktop_pd['timestamp'] = pd.to_datetime(pageviews_desktop_pd['timestamp'], format='%Y%m%d%H')\n",
    "pageviews_mobile_all_pd['timestamp'] = pd.to_datetime(pageviews_mobile_all_pd['timestamp'], format='%Y%m%d%H')\n",
    "pageviews_all_pd['timestamp'] = pd.to_datetime(pageviews_all_pd['timestamp'], format='%Y%m%d%H')"
   ]
  },
  {
   "cell_type": "code",
   "execution_count": 16,
   "metadata": {
    "collapsed": false
   },
   "outputs": [],
   "source": [
    "pagecounts_desktop_site_pd['year'] = pagecounts_desktop_site_pd['timestamp'].dt.year\n",
    "pagecounts_desktop_site_pd['month'] = pagecounts_desktop_site_pd['timestamp'].dt.month\n",
    "pagecounts_mobile_site_pd['year'] = pagecounts_mobile_site_pd['timestamp'].dt.year\n",
    "pagecounts_mobile_site_pd['month'] = pagecounts_mobile_site_pd['timestamp'].dt.month\n",
    "pagecounts_all_pd['year'] = pagecounts_all_pd['timestamp'].dt.year\n",
    "pagecounts_all_pd['month'] = pagecounts_all_pd['timestamp'].dt.month\n",
    "\n",
    "pageviews_desktop_pd['year'] = pageviews_desktop_pd['timestamp'].dt.year\n",
    "pageviews_desktop_pd['month'] = pageviews_desktop_pd['timestamp'].dt.month\n",
    "pageviews_mobile_all_pd['year'] = pageviews_mobile_all_pd['timestamp'].dt.year\n",
    "pageviews_mobile_all_pd['month'] = pageviews_mobile_all_pd['timestamp'].dt.month\n",
    "pageviews_all_pd['year'] = pageviews_all_pd['timestamp'].dt.year\n",
    "pageviews_all_pd['month'] = pageviews_all_pd['timestamp'].dt.month"
   ]
  },
  {
   "cell_type": "markdown",
   "metadata": {},
   "source": [
    "Next, I rename the count columns into its respective names detailed in the instructions."
   ]
  },
  {
   "cell_type": "code",
   "execution_count": 17,
   "metadata": {
    "collapsed": false
   },
   "outputs": [],
   "source": [
    "pagecounts_desktop_site_pd['pagecount_desktop_views'] = pagecounts_desktop_site_pd['count']\n",
    "pagecounts_mobile_site_pd['pagecount_mobile_views'] = pagecounts_mobile_site_pd['count']\n",
    "pagecounts_all_pd['pagecount_all_views'] = pagecounts_all_pd['views']\n",
    "pageviews_desktop_pd['pageview_desktop_views'] = pageviews_desktop_pd['views']\n",
    "pageviews_mobile_all_pd['pageview_mobile_views'] = pageviews_mobile_all_pd['views']\n",
    "pageviews_all_pd['pageview_all_views'] = pageviews_all_pd['views']"
   ]
  },
  {
   "cell_type": "markdown",
   "metadata": {},
   "source": [
    "Next, I remove irrelevant columns, and use a lambda function to merge all these dataframes into a single one."
   ]
  },
  {
   "cell_type": "code",
   "execution_count": 18,
   "metadata": {
    "collapsed": false
   },
   "outputs": [],
   "source": [
    "pagecounts_desktop_site_pd = pagecounts_desktop_site_pd.drop(['access-site', 'count', 'granularity', 'project', 'timestamp'], axis=1)\n",
    "pagecounts_mobile_site_pd = pagecounts_mobile_site_pd.drop(['count', 'timestamp'], axis=1)\n",
    "pagecounts_all_pd = pagecounts_all_pd.drop(['access-site', 'granularity', 'project', 'timestamp'], axis=1)\n",
    "pageviews_desktop_pd = pageviews_desktop_pd.drop(['access', 'agent', 'granularity', 'project', 'timestamp', 'views'], axis=1)\n",
    "pageviews_mobile_all_pd = pageviews_mobile_all_pd.drop(['access', 'agent', 'granularity', 'project', 'timestamp', 'views'], axis=1)\n",
    "pageviews_all_pd = pageviews_all_pd.drop(['access', 'agent', 'granularity', 'project', 'timestamp', 'views'], axis=1)"
   ]
  },
  {
   "cell_type": "code",
   "execution_count": 19,
   "metadata": {
    "collapsed": false
   },
   "outputs": [],
   "source": [
    "# Merge all dataframes\n",
    "all_pd = reduce(lambda x,y: pd.merge(x,y, on=['year', 'month'], how='outer'), [pagecounts_desktop_site_pd, \\\n",
    "                                                                      pagecounts_mobile_site_pd, \\\n",
    "                                                                      pagecounts_all_pd, \\\n",
    "                                                                      pageviews_desktop_pd, \\\n",
    "                                                                      pageviews_mobile_all_pd, \\\n",
    "                                                                      pageviews_all_pd])"
   ]
  },
  {
   "cell_type": "markdown",
   "metadata": {},
   "source": [
    "Lastly, I remove an irrelevant column, fill the NA cells with 0, and write to a CSV file."
   ]
  },
  {
   "cell_type": "code",
   "execution_count": 20,
   "metadata": {
    "collapsed": false
   },
   "outputs": [],
   "source": [
    "all_pd = all_pd.drop(['views'], axis=1)"
   ]
  },
  {
   "cell_type": "code",
   "execution_count": 21,
   "metadata": {
    "collapsed": true
   },
   "outputs": [],
   "source": [
    "all_pd = all_pd.fillna(0)"
   ]
  },
  {
   "cell_type": "code",
   "execution_count": 22,
   "metadata": {
    "collapsed": false
   },
   "outputs": [],
   "source": [
    "all_pd.to_csv('en-wikipedia_traffic_200712-201809.csv', index=False)"
   ]
  },
  {
   "cell_type": "markdown",
   "metadata": {},
   "source": [
    "## Step 3: Analysis\n",
    "\n",
    "First, I load in the CSV file into a pandas dataframe. Then, I convert the year and month columns into a `Timestamp` field that can be plotted. Additionally, I created two dataframes from the initial dataframe I loaded in so that I can plot the lines with same colors and distinguish new definitions using dotted lines."
   ]
  },
  {
   "cell_type": "code",
   "execution_count": 23,
   "metadata": {
    "collapsed": false
   },
   "outputs": [],
   "source": [
    "# Read csv\n",
    "wiki_data = pd.read_csv('en-wikipedia_traffic_200712-201809.csv')"
   ]
  },
  {
   "cell_type": "code",
   "execution_count": 24,
   "metadata": {
    "collapsed": false
   },
   "outputs": [],
   "source": [
    "# Set timestamp field\n",
    "wiki_data['Timestamp'] = pd.to_datetime(wiki_data[['year', 'month']].assign(DAY=1))\n",
    "wiki_data = wiki_data.drop(['year', 'month'], axis=1)"
   ]
  },
  {
   "cell_type": "code",
   "execution_count": 25,
   "metadata": {
    "collapsed": false
   },
   "outputs": [],
   "source": [
    "# Create two dataframes for plotting\n",
    "wiki_data_1 = wiki_data[['pagecount_desktop_views', 'pagecount_mobile_views', 'pagecount_all_views', 'Timestamp']].copy()\n",
    "wiki_data_2 = wiki_data[['pageview_desktop_views', 'pageview_mobile_views', 'pageview_all_views', 'Timestamp']].copy()"
   ]
  },
  {
   "cell_type": "code",
   "execution_count": 26,
   "metadata": {
    "collapsed": false,
    "scrolled": true
   },
   "outputs": [
    {
     "data": {
      "image/png": "[encoded data removed]",
      "text/plain": [
       "<Figure size 1440x360 with 1 Axes>"
      ]
     },
     "metadata": {},
     "output_type": "display_data"
    }
   ],
   "source": [
    "# multiple line plot\n",
    "ax = wiki_data_1.replace(0, np.nan).plot(x='Timestamp', figsize=(20,5), \\\n",
    "                                         linestyle=\"--\", \\\n",
    "                                         fontsize=15)\n",
    "ax.set_title('Page Views on English Wikipedia', fontsize= 20)\n",
    "ax.set_ylabel(\"Traffic\", fontsize=15, labelpad=20)\n",
    "ax.set_ylim(bottom=0)\n",
    "ax.set_prop_cycle(None)\n",
    "\n",
    "wiki_data_2.replace(0, np.nan).plot(x='Timestamp', ax=ax)\n",
    "ax.set_xlabel(\"May 2015: a new page view definition took effect, which eliminated all crawler traffic. \\\n",
    "Solid lines mark new definition.\", fontsize=15, labelpad=20)\n",
    "ax.legend([\"main site\", \"mobile site\", \"total\"]);"
   ]
  },
  {
   "cell_type": "code",
   "execution_count": null,
   "metadata": {
    "collapsed": true
   },
   "outputs": [],
   "source": []
  }
 ],
 "metadata": {
  "kernelspec": {
   "display_name": "Python 3",
   "language": "python",
   "name": "python3"
  },
  "language_info": {
   "codemirror_mode": {
    "name": "ipython",
    "version": 3
   },
   "file_extension": ".py",
   "mimetype": "text/x-python",
   "name": "python",
   "nbconvert_exporter": "python",
   "pygments_lexer": "ipython3",
   "version": "3.6.1"
  }
 },
 "nbformat": 4,
 "nbformat_minor": 0
}
